{
 "cells": [
  {
   "cell_type": "markdown",
   "metadata": {},
   "source": [
    "# Library needed \n",
    "\n",
    "- gitpython"
   ]
  },
  {
   "cell_type": "code",
   "execution_count": null,
   "metadata": {},
   "outputs": [],
   "source": [
    "# Install gitpython\n",
    "#!pip install gitpython"
   ]
  },
  {
   "cell_type": "markdown",
   "metadata": {},
   "source": [
    "# Clonning a repo"
   ]
  },
  {
   "cell_type": "code",
   "execution_count": null,
   "metadata": {},
   "outputs": [],
   "source": [
    "from git import Repo"
   ]
  },
  {
   "cell_type": "code",
   "execution_count": null,
   "metadata": {},
   "outputs": [],
   "source": [
    "# The url of the github repo to clone \n",
    "GIT_URL_BOX_API = 'https://github.com/sergioeval/BoxApiPython.git'\n",
    "\n",
    "# The target path to save the files from the repo \n",
    "# Recomended to separete each util in different folder inside the Utils folder\n",
    "BOX_API_TARGET_PATH = 'Utils/BoxApi/'"
   ]
  },
  {
   "cell_type": "code",
   "execution_count": null,
   "metadata": {},
   "outputs": [],
   "source": [
    "Repo.clone_from(url= GIT_URL_BOX_API, to_path=BOX_API_TARGET_PATH)"
   ]
  }
 ],
 "metadata": {
  "kernelspec": {
   "display_name": "p10_disputes",
   "language": "python",
   "name": "python3"
  },
  "language_info": {
   "codemirror_mode": {
    "name": "ipython",
    "version": 3
   },
   "file_extension": ".py",
   "mimetype": "text/x-python",
   "name": "python",
   "nbconvert_exporter": "python",
   "pygments_lexer": "ipython3",
   "version": "3.10.12"
  },
  "orig_nbformat": 4
 },
 "nbformat": 4,
 "nbformat_minor": 2
}
